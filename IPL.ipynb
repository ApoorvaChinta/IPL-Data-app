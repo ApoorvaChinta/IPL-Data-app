{
  "nbformat": 4,
  "nbformat_minor": 0,
  "metadata": {
    "colab": {
      "name": "IPL.ipynb",
      "provenance": [],
      "authorship_tag": "ABX9TyPgP5jcCMLDJkY4bCj5Dt9u",
      "include_colab_link": true
    },
    "kernelspec": {
      "name": "python3",
      "display_name": "Python 3"
    },
    "language_info": {
      "name": "python"
    }
  },
  "cells": [
    {
      "cell_type": "markdown",
      "metadata": {
        "id": "view-in-github",
        "colab_type": "text"
      },
      "source": [
        "<a href=\"https://colab.research.google.com/github/ApoorvaChinta/IPL-Data-app/blob/master/IPL.ipynb\" target=\"_parent\"><img src=\"https://colab.research.google.com/assets/colab-badge.svg\" alt=\"Open In Colab\"/></a>"
      ]
    },
    {
      "cell_type": "code",
      "source": [
        "!pip install dash"
      ],
      "metadata": {
        "colab": {
          "base_uri": "https://localhost:8080/"
        },
        "id": "ewhnXIgceLgx",
        "outputId": "3077cdd8-be6e-450c-b4f7-b9cd17b30055"
      },
      "execution_count": 2,
      "outputs": [
        {
          "output_type": "stream",
          "name": "stdout",
          "text": [
            "Collecting dash\n",
            "  Downloading dash-2.4.1-py3-none-any.whl (9.8 MB)\n",
            "\u001b[K     |████████████████████████████████| 9.8 MB 13.0 MB/s \n",
            "\u001b[?25hCollecting dash-core-components==2.0.0\n",
            "  Downloading dash_core_components-2.0.0-py3-none-any.whl (3.8 kB)\n",
            "Collecting dash-html-components==2.0.0\n",
            "  Downloading dash_html_components-2.0.0-py3-none-any.whl (4.1 kB)\n",
            "Requirement already satisfied: Flask>=1.0.4 in /usr/local/lib/python3.7/dist-packages (from dash) (1.1.4)\n",
            "Collecting flask-compress\n",
            "  Downloading Flask_Compress-1.12-py3-none-any.whl (7.9 kB)\n",
            "Requirement already satisfied: plotly>=5.0.0 in /usr/local/lib/python3.7/dist-packages (from dash) (5.5.0)\n",
            "Collecting dash-table==5.0.0\n",
            "  Downloading dash_table-5.0.0-py3-none-any.whl (3.9 kB)\n",
            "Requirement already satisfied: click<8.0,>=5.1 in /usr/local/lib/python3.7/dist-packages (from Flask>=1.0.4->dash) (7.1.2)\n",
            "Requirement already satisfied: itsdangerous<2.0,>=0.24 in /usr/local/lib/python3.7/dist-packages (from Flask>=1.0.4->dash) (1.1.0)\n",
            "Requirement already satisfied: Werkzeug<2.0,>=0.15 in /usr/local/lib/python3.7/dist-packages (from Flask>=1.0.4->dash) (1.0.1)\n",
            "Requirement already satisfied: Jinja2<3.0,>=2.10.1 in /usr/local/lib/python3.7/dist-packages (from Flask>=1.0.4->dash) (2.11.3)\n",
            "Requirement already satisfied: MarkupSafe>=0.23 in /usr/local/lib/python3.7/dist-packages (from Jinja2<3.0,>=2.10.1->Flask>=1.0.4->dash) (2.0.1)\n",
            "Requirement already satisfied: six in /usr/local/lib/python3.7/dist-packages (from plotly>=5.0.0->dash) (1.15.0)\n",
            "Requirement already satisfied: tenacity>=6.2.0 in /usr/local/lib/python3.7/dist-packages (from plotly>=5.0.0->dash) (8.0.1)\n",
            "Collecting brotli\n",
            "  Downloading Brotli-1.0.9-cp37-cp37m-manylinux1_x86_64.whl (357 kB)\n",
            "\u001b[K     |████████████████████████████████| 357 kB 46.8 MB/s \n",
            "\u001b[?25hInstalling collected packages: brotli, flask-compress, dash-table, dash-html-components, dash-core-components, dash\n",
            "Successfully installed brotli-1.0.9 dash-2.4.1 dash-core-components-2.0.0 dash-html-components-2.0.0 dash-table-5.0.0 flask-compress-1.12\n"
          ]
        }
      ]
    },
    {
      "cell_type": "code",
      "source": [
        "!pip install dash_auth"
      ],
      "metadata": {
        "colab": {
          "base_uri": "https://localhost:8080/"
        },
        "id": "1_2DcHdreRI8",
        "outputId": "7de4b9f8-61c1-4cd1-97d0-8884618dc8fc"
      },
      "execution_count": 3,
      "outputs": [
        {
          "output_type": "stream",
          "name": "stdout",
          "text": [
            "Collecting dash_auth\n",
            "  Downloading dash_auth-1.4.1.tar.gz (470 kB)\n",
            "\u001b[K     |████████████████████████████████| 470 kB 11.8 MB/s \n",
            "\u001b[?25hCollecting chart_studio>=1.0.0\n",
            "  Downloading chart_studio-1.1.0-py3-none-any.whl (64 kB)\n",
            "\u001b[K     |████████████████████████████████| 64 kB 2.2 MB/s \n",
            "\u001b[?25hRequirement already satisfied: Flask>=1.0.2 in /usr/local/lib/python3.7/dist-packages (from dash_auth) (1.1.4)\n",
            "Requirement already satisfied: flask-compress in /usr/local/lib/python3.7/dist-packages (from dash_auth) (1.12)\n",
            "Collecting flask-seasurf\n",
            "  Downloading Flask_SeaSurf-1.1.1-py3-none-any.whl (8.4 kB)\n",
            "Requirement already satisfied: dash>=1.1.1 in /usr/local/lib/python3.7/dist-packages (from dash_auth) (2.4.1)\n",
            "Requirement already satisfied: requests in /usr/local/lib/python3.7/dist-packages (from dash_auth) (2.23.0)\n",
            "Collecting retrying\n",
            "  Downloading retrying-1.3.3.tar.gz (10 kB)\n",
            "Requirement already satisfied: itsdangerous>=1.1.0 in /usr/local/lib/python3.7/dist-packages (from dash_auth) (1.1.0)\n",
            "Collecting ua_parser\n",
            "  Downloading ua_parser-0.10.0-py2.py3-none-any.whl (35 kB)\n",
            "Requirement already satisfied: six in /usr/local/lib/python3.7/dist-packages (from chart_studio>=1.0.0->dash_auth) (1.15.0)\n",
            "Requirement already satisfied: plotly in /usr/local/lib/python3.7/dist-packages (from chart_studio>=1.0.0->dash_auth) (5.5.0)\n",
            "Requirement already satisfied: dash-table==5.0.0 in /usr/local/lib/python3.7/dist-packages (from dash>=1.1.1->dash_auth) (5.0.0)\n",
            "Requirement already satisfied: dash-html-components==2.0.0 in /usr/local/lib/python3.7/dist-packages (from dash>=1.1.1->dash_auth) (2.0.0)\n",
            "Requirement already satisfied: dash-core-components==2.0.0 in /usr/local/lib/python3.7/dist-packages (from dash>=1.1.1->dash_auth) (2.0.0)\n",
            "Requirement already satisfied: Werkzeug<2.0,>=0.15 in /usr/local/lib/python3.7/dist-packages (from Flask>=1.0.2->dash_auth) (1.0.1)\n",
            "Requirement already satisfied: click<8.0,>=5.1 in /usr/local/lib/python3.7/dist-packages (from Flask>=1.0.2->dash_auth) (7.1.2)\n",
            "Requirement already satisfied: Jinja2<3.0,>=2.10.1 in /usr/local/lib/python3.7/dist-packages (from Flask>=1.0.2->dash_auth) (2.11.3)\n",
            "Requirement already satisfied: MarkupSafe>=0.23 in /usr/local/lib/python3.7/dist-packages (from Jinja2<3.0,>=2.10.1->Flask>=1.0.2->dash_auth) (2.0.1)\n",
            "Requirement already satisfied: tenacity>=6.2.0 in /usr/local/lib/python3.7/dist-packages (from plotly->chart_studio>=1.0.0->dash_auth) (8.0.1)\n",
            "Requirement already satisfied: brotli in /usr/local/lib/python3.7/dist-packages (from flask-compress->dash_auth) (1.0.9)\n",
            "Requirement already satisfied: idna<3,>=2.5 in /usr/local/lib/python3.7/dist-packages (from requests->dash_auth) (2.10)\n",
            "Requirement already satisfied: urllib3!=1.25.0,!=1.25.1,<1.26,>=1.21.1 in /usr/local/lib/python3.7/dist-packages (from requests->dash_auth) (1.24.3)\n",
            "Requirement already satisfied: chardet<4,>=3.0.2 in /usr/local/lib/python3.7/dist-packages (from requests->dash_auth) (3.0.4)\n",
            "Requirement already satisfied: certifi>=2017.4.17 in /usr/local/lib/python3.7/dist-packages (from requests->dash_auth) (2021.10.8)\n",
            "Building wheels for collected packages: dash-auth, retrying\n",
            "  Building wheel for dash-auth (setup.py) ... \u001b[?25l\u001b[?25hdone\n",
            "  Created wheel for dash-auth: filename=dash_auth-1.4.1-py3-none-any.whl size=476152 sha256=e7c537155c602ad76f995b66977736596e320a23c082acefec123f19ac798779\n",
            "  Stored in directory: /root/.cache/pip/wheels/19/b2/02/3c3f05988ff92f02c52ce4e081859d423537e8e9b13f673c02\n",
            "  Building wheel for retrying (setup.py) ... \u001b[?25l\u001b[?25hdone\n",
            "  Created wheel for retrying: filename=retrying-1.3.3-py3-none-any.whl size=11447 sha256=a14e51c51cfd20202d82617f640d28dd561bf17a1e40041e6c50090925da3e41\n",
            "  Stored in directory: /root/.cache/pip/wheels/f9/8d/8d/f6af3f7f9eea3553bc2fe6d53e4b287dad18b06a861ac56ddf\n",
            "Successfully built dash-auth retrying\n",
            "Installing collected packages: retrying, ua-parser, flask-seasurf, chart-studio, dash-auth\n",
            "Successfully installed chart-studio-1.1.0 dash-auth-1.4.1 flask-seasurf-1.1.1 retrying-1.3.3 ua-parser-0.10.0\n"
          ]
        }
      ]
    },
    {
      "cell_type": "code",
      "source": [
        "!pip install dash_html_components"
      ],
      "metadata": {
        "colab": {
          "base_uri": "https://localhost:8080/"
        },
        "id": "0-RxirYteXYd",
        "outputId": "6f1c9c69-0000-4f4e-8606-977bce8baecb"
      },
      "execution_count": 5,
      "outputs": [
        {
          "output_type": "stream",
          "name": "stdout",
          "text": [
            "Requirement already satisfied: dash_html_components in /usr/local/lib/python3.7/dist-packages (2.0.0)\n"
          ]
        }
      ]
    },
    {
      "cell_type": "code",
      "execution_count": null,
      "metadata": {
        "id": "NlMSNEweeBCh"
      },
      "outputs": [],
      "source": [
        "import pandas as pd\n",
        "import numpy as np\n",
        "import plotly.express as px\n",
        "import dash\n",
        "import dash_auth\n",
        "import dash_core_components as dcc\n",
        "import dash_html_components as html\n",
        "from dash.dependencies import Input, Output\n",
        "#USERNAME_PASSWORD_PAIRS=[['guvi','guvi']]\n",
        "app=dash.Dash(__name__)\n",
        "#auth= dash_auth.BasicAuth(app,USERNAME_PASSWORD_PAIRS)\n",
        "server=app.server\n",
        "df = pd.read_csv('https://raw.githubusercontent.com/srinathkr07/IPL-Data-Analysis/master/matches.csv')\n",
        "df=df.drop(columns='id')\n",
        "df=df.fillna(0)\n",
        "mappings={'Rising Pune Supergiant':'Rising Pune Supergiants','Delhi Capitals':'Delhi Daredevils'}\n",
        "df['team1']=df['team1'].replace(mappings)\n",
        "df['team2']=df['team2'].replace(mappings)\n",
        "df['winner']=df['winner'].replace(mappings)\n",
        "df['toss_winner']=df['toss_winner'].replace(mappings)\n",
        "#to create a new column 'Loser' \n",
        "loser=[]\n",
        "for i in range(756):\n",
        "  if (df.iloc[i,3])!=(df.iloc[i,9]):\n",
        "    loser.append(df.iloc[i,3])\n",
        "  elif (df.iloc[i,9])==0:\n",
        "    loser.append(0)\n",
        "  else:\n",
        "    loser.append(df.iloc[i,4])\n",
        "df['Loser']=loser\n",
        "#to find the total matches played by each team over all the seasons\n",
        "total={}\n",
        "count=0\n",
        "for i in df['team1'].unique():\n",
        "  for m in range(756):\n",
        "    if i==df.iloc[m,3]:\n",
        "      count+=1\n",
        "    else:\n",
        "      if i==df.iloc[m,4]:\n",
        "        count+=1\n",
        "  total[i]=count\n",
        "  count=0\n",
        "#to create a new column of total matches played by the winner over all the seasons\n",
        "match=[]\n",
        "for i in df['winner']:\n",
        "  for j,k in total.items():\n",
        "    if i==j:\n",
        "      match.append(k)\n",
        "    elif i==0:\n",
        "      match.append(0)\n",
        "      break\n",
        "df['Total_matches_played_by_winner']=match\n",
        "\n",
        "app.layout=html.Div([html.Div([html.H1(children='IPL Data Analysis', style={'textAlign': 'center','color': 'darkblue', 'fontSize': 40,\n",
        "'backgroundColor':'white'}),html.Br(),html.Br(),html.Br(),html.Br(),html.Br(),html.Br()],\n",
        "style={'background-image':'url(https://styles.redditmedia.com/t5_2rnjo/styles/communityIcon_sn55eqgnhpw61.jpg?width=256&s=f3d9c42c8ab1f49848451012c87b276d6878b0e2)'}),\n",
        "html.Br(),html.Div([dcc.Dropdown(['Best team based on Number of Wins',\n",
        "                         'Best Player based on Player of the Match',\n",
        "                         'Best team based on Win by Runs',\n",
        "                         'Best Team based on Win by Wickets',\n",
        "                         'Luckiest Venue for Each Team',\n",
        "                         'Winning probability by Winning Toss'],'Best team based on Number of Wins',id='based-on',clearable=False,searchable=False,\n",
        "                            style = dict(\n",
        "                            width = '45%'                           \n",
        "                            ))\n",
        "  ]),html.Br(),\n",
        "  html.Div([dcc.Dropdown(['All Seasons',2008,2009,2010,2011,2012,2013,2014,2015,2016,2017,\n",
        "                         2018,\n",
        "                         2019],'All Seasons',id='year',clearable=False,searchable=False,\n",
        "                            style = dict(width = '30%'))\n",
        "  ]),html.Div([\n",
        "  dcc.Graph(\n",
        "       id='example-graph-1',\n",
        "      )\n",
        "  ])\n",
        "])\n",
        "@app.callback(\n",
        "    Output('example-graph-1','figure'),\n",
        "    [Input('based-on','value')],[Input('year','value')])\n",
        "def update_graph(bvalue,yvalue):\n",
        "  if bvalue== 'Best team based on Number of Wins':\n",
        "    if yvalue=='All Seasons':\n",
        "      pie=px.pie(data_frame=df,names='winner',title='Best team based on Number of Wins',hole=0.2,hover_data=['Total_matches_played_by_winner'])\n",
        "      pie.update_traces(textinfo=\"label+value\",textposition='inside')\n",
        "      return pie\n",
        "    else:\n",
        "      df1 = df[df['season'] == yvalue]\n",
        "      pie=px.pie(data_frame=df1,names='winner',title='Best team based on Number of Wins',hole=0.2)\n",
        "      pie.update_traces(textinfo=\"label+value\",textposition='inside')\n",
        "      return pie\n",
        "\n",
        "  elif bvalue== 'Best Player based on Player of the Match':\n",
        "    if yvalue=='All Seasons':\n",
        "      bar=px.bar(df,x='player_of_match',color='player_of_match',title='Best Player based on Player of the Match')\n",
        "      bar.update_layout(xaxis={'categoryorder':'total descending'})\n",
        "      return bar\n",
        "    else:\n",
        "      df1 = df[df['season'] == yvalue]\n",
        "      bar=px.bar(df1,x='player_of_match',color='player_of_match',title='Best Player based on Player of the Match')\n",
        "      bar.update_layout(xaxis={'categoryorder':'total descending'})\n",
        "      return bar\n",
        "\n",
        "  elif bvalue== 'Best team based on Win by Runs':\n",
        "    if yvalue=='All Seasons':\n",
        "      scat=px.scatter_3d(df,x='winner',y='Loser',z='win_by_runs',color='win_by_runs',size='win_by_runs',title='Best team based on Win by Runs')\n",
        "      return scat\n",
        "    else:  \n",
        "      df1 = df[df['season'] == yvalue]\n",
        "      scat=px.scatter_3d(df1,x='winner',y='Loser',z='win_by_runs',color='win_by_runs',size='win_by_runs',title='Best team based on Win by Runs')\n",
        "      return scat\n",
        "\n",
        "  elif bvalue== 'Best Team based on Win by Wickets':\n",
        "    if yvalue=='All Seasons':\n",
        "      df1=df.query(\"win_by_wickets>0\")\n",
        "      sun1= px.sunburst(df1, path=['winner', 'win_by_wickets'],title='Best Team based on Win by Wickets')\n",
        "      sun1.update_layout(margin = dict(t=100, l=25, r=25, b=25))\n",
        "      sun1.update_traces(textinfo=\"label+value\",maxdepth=1)\n",
        "      return sun1\n",
        "    else:\n",
        "      df1 = df[(df['season'] == yvalue) & (df[\"win_by_wickets\"]>0)]\n",
        "      sun1= px.sunburst(df1, path=['winner', 'win_by_wickets'],title='Best Team based on Win by Wickets')\n",
        "      sun1.update_layout(margin = dict(t=100, l=25, r=25, b=25))\n",
        "      sun1.update_traces(textinfo=\"label+value\",maxdepth=1)\n",
        "      return sun1\n",
        "\n",
        "  elif bvalue== 'Luckiest Venue for Each Team':\n",
        "    if yvalue=='All Seasons':\n",
        "      fig=px.bar(df,x='venue',color='winner',title='Luckiest Venue for Each Team',animation_frame='winner',barmode='relative')\n",
        "      fig.update_layout(margin=dict(l=100, r=20, t=100, b=200),paper_bgcolor=\"beige\",title={'y':0.9,'x':0.5,'xanchor': 'center','yanchor': 'top'})\n",
        "      fig['layout']['updatemenus'][0]['pad']=dict(r= 10, t= 150)\n",
        "      fig['layout']['sliders'][0]['pad']=dict(r= 20, t= 200,)\n",
        "      return fig\n",
        "    else:\n",
        "      df1 = df[df['season'] == yvalue]\n",
        "      fig=px.bar(df1,x='venue',color='winner',title='Luckiest Venue for Each Team',animation_frame='winner',barmode='relative')\n",
        "      fig.update_layout(margin=dict(l=100, r=20, t=100, b=200),paper_bgcolor=\"beige\",title={'y':0.9,'x':0.5,'xanchor': 'center','yanchor': 'top'})\n",
        "      fig['layout']['updatemenus'][0]['pad']=dict(r= 10, t= 150)\n",
        "      fig['layout']['sliders'][0]['pad']=dict(r= 20, t= 200,)\n",
        "      return fig\n",
        "\n",
        "  elif bvalue== 'Winning probability by Winning Toss':\n",
        "    if yvalue=='All Seasons':\n",
        "      sun= px.sunburst(df, path=['toss_winner', 'winner'],title='Winning probability by Winning Toss')\n",
        "      sun.update_layout(margin = dict(t=100, l=25, r=25, b=25))\n",
        "      sun.update_traces(textinfo=\"label+percent parent+value\")\n",
        "      return sun\n",
        "    else:\n",
        "      df1 = df[df['season'] == yvalue]\n",
        "      sun= px.sunburst(df1, path=['toss_winner', 'winner'],title='Winning probability by Winning Toss')\n",
        "      sun.update_layout(margin = dict(t=100, l=25, r=25, b=25))\n",
        "      sun.update_traces(textinfo=\"label+percent parent+value\")\n",
        "      return sun\n",
        "\n",
        "if __name__ == '__main__':\n",
        "   app.run_server(debug=True)"
      ]
    }
  ]
}